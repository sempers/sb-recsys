{
  "nbformat": 4,
  "nbformat_minor": 0,
  "metadata": {
    "colab": {
      "name": "recsys_diploma.ipynb",
      "provenance": [],
      "collapsed_sections": [],
      "toc_visible": true,
      "machine_shape": "hm"
    },
    "kernelspec": {
      "name": "python3",
      "display_name": "Python 3"
    },
    "accelerator": "GPU"
  },
  "cells": [
    {
      "cell_type": "markdown",
      "metadata": {
        "id": "poFhRB9UjxGO"
      },
      "source": [
        "**Эпиграф**\r\n",
        "\r\n",
        "Для решения этой работы были проштудирована книга Kim Falk Practical Recommender Systems (Manning, 2019), а также множество статей в интернете. Была попытка реализовать несколько известных алгоритмов рекомендательных систем, такие как Collaborative Filtering, Item-to-Item similarity, Content-Based Filtering. В конце концов, реальность оказалась проще."
      ]
    },
    {
      "cell_type": "markdown",
      "metadata": {
        "id": "yiheOfa72RCv"
      },
      "source": [
        "### Главная первая ячейка\r\n",
        "\r\n",
        "Загружаем необходимые библиотеки, определяем функции сохранения данных на диск, определяем Godlike-class RecData, который будет сохранять полученную статистику."
      ]
    },
    {
      "cell_type": "code",
      "execution_count": 34,
      "metadata": {
        "id": "YWb7da_vTByd"
      },
      "outputs": [],
      "source": [
        "import numpy as np\n",
        "import pandas as pd\n",
        "from scipy import sparse\n",
        "import pickle\n",
        "from scipy import spatial\n",
        "\n",
        "import tensorflow as tf\n",
        "import keras\n",
        "from IPython.display import clear_output\n",
        "\n",
        "def save_obj(obj, filename):\n",
        "    with open(\"./drive/My Drive/data/recsys_diploma/\" + filename, \"wb\") as f:\n",
        "        pickle.dump(obj, f)\n",
        "\n",
        "def load_obj(filename):\n",
        "    with open(\"./drive/My Drive/data/recsys_diploma/\" + filename, \"rb\") as f:\n",
        "        return pickle.load(f)\n",
        "\n",
        "class RecData():\n",
        "    def __init__(self, UIDS, IIDS):\n",
        "        self.AISLE_ITEMS = {}\n",
        "        self.AISLE_ITEMS_PROBA = {}\n",
        "        self.DEPARTMENT_ITEMS = {}\n",
        "        self.DEPARTMENT_ITEMS_PROBA = {}\n",
        "        self.user_data = {}\n",
        "        self.item_data = {}        \n",
        "        self.UIDS = UIDS\n",
        "        self.IIDS = IIDS\n",
        "        self.UIDS_index = {uid: i for i, uid in enumerate(UIDS)}\n",
        "        self.UIDS_inverse_index = {i: uid for i, uid in enumerate(UIDS)}\n",
        "        self.IIDS_index = {iid: i for i, iid in enumerate(IIDS)}\n",
        "        self.IIDS_inverse_index = {i: iid for i, iid in enumerate(IIDS)}\n",
        "\n",
        "N = 100000 # число пользователей\n",
        "M = 49688  # число продуктов"
      ]
    },
    {
      "cell_type": "markdown",
      "metadata": {
        "id": "M4s2i4wm2EEV"
      },
      "source": [
        "### 1. Первичная загрузка и обработка данных"
      ]
    },
    {
      "cell_type": "code",
      "execution_count": null,
      "metadata": {
        "id": "TBLW6kH3egnA"
      },
      "outputs": [],
      "source": [
        "#Рабочий вариант (собственный GoogleDrive)\r\n",
        "TX_PATH = \"./drive/My Drive/data/recsys_diploma/transactions.csv\"\r\n",
        "PRODUCTS_PATH = \"./drive/My Drive/data/recsys_diploma/products.csv\""
      ]
    },
    {
      "cell_type": "code",
      "execution_count": null,
      "metadata": {
        "colab": {
          "base_uri": "https://localhost:8080/"
        },
        "id": "MHEwpVgffR1n",
        "outputId": "8e9181ce-aa3d-480d-c63a-26061417e879"
      },
      "outputs": [
        {
          "name": "stdout",
          "output_type": "stream",
          "text": [
            "Requirement already satisfied: gdown in /usr/local/lib/python3.6/dist-packages (3.6.4)\n",
            "Requirement already satisfied: tqdm in /usr/local/lib/python3.6/dist-packages (from gdown) (4.41.1)\n",
            "Requirement already satisfied: six in /usr/local/lib/python3.6/dist-packages (from gdown) (1.15.0)\n",
            "Requirement already satisfied: requests in /usr/local/lib/python3.6/dist-packages (from gdown) (2.23.0)\n",
            "Requirement already satisfied: urllib3!=1.25.0,!=1.25.1,<1.26,>=1.21.1 in /usr/local/lib/python3.6/dist-packages (from requests->gdown) (1.24.3)\n",
            "Requirement already satisfied: certifi>=2017.4.17 in /usr/local/lib/python3.6/dist-packages (from requests->gdown) (2020.11.8)\n",
            "Requirement already satisfied: idna<3,>=2.5 in /usr/local/lib/python3.6/dist-packages (from requests->gdown) (2.10)\n",
            "Requirement already satisfied: chardet<4,>=3.0.2 in /usr/local/lib/python3.6/dist-packages (from requests->gdown) (3.0.4)\n"
          ]
        }
      ],
      "source": [
        "!pip install gdown"
      ]
    },
    {
      "cell_type": "code",
      "execution_count": null,
      "metadata": {
        "id": "Tropk9VKfOWX"
      },
      "outputs": [],
      "source": [
        "#Вариант для проверяющих\r\n",
        "import gdown\r\n",
        "\r\n",
        "TX_URL = \"https://drive.google.com/uc?export=download&id=1b5n6uf-f9pP9dp4YI5XBIiZFzrrFS10F\"\r\n",
        "PRODUCTS_URL = \"https://drive.google.com/uc?export=download&id=1VYcJqx7pQeoD8p6nJkSAtbTAxwfKPyjQ\"\r\n",
        "\r\n",
        "gdown.download(TX_URL, \"transactions.csv\")\r\n",
        "gdown.download(PRODUCTS_URL, \"products.csv\")\r\n",
        "\r\n",
        "TX_PATH = \"./transactions.csv\"\r\n",
        "PRODUCTS_PATH = \"./products.csv\""
      ]
    },
    {
      "cell_type": "code",
      "execution_count": null,
      "metadata": {
        "colab": {
          "base_uri": "https://localhost:8080/",
          "height": 204
        },
        "id": "tAW7GVoFhrUm",
        "outputId": "95b46f9d-e8d2-4a44-c730-25dff38dd57a"
      },
      "outputs": [
        {
          "data": {
            "text/html": [
              "<div>\n",
              "<style scoped>\n",
              "    .dataframe tbody tr th:only-of-type {\n",
              "        vertical-align: middle;\n",
              "    }\n",
              "\n",
              "    .dataframe tbody tr th {\n",
              "        vertical-align: top;\n",
              "    }\n",
              "\n",
              "    .dataframe thead th {\n",
              "        text-align: right;\n",
              "    }\n",
              "</style>\n",
              "<table border=\"1\" class=\"dataframe\">\n",
              "  <thead>\n",
              "    <tr style=\"text-align: right;\">\n",
              "      <th></th>\n",
              "      <th>product_id</th>\n",
              "      <th>product_name</th>\n",
              "      <th>aisle_id</th>\n",
              "      <th>department_id</th>\n",
              "      <th>aisle</th>\n",
              "      <th>department</th>\n",
              "    </tr>\n",
              "  </thead>\n",
              "  <tbody>\n",
              "    <tr>\n",
              "      <th>0</th>\n",
              "      <td>1</td>\n",
              "      <td>Chocolate Sandwich Cookies</td>\n",
              "      <td>61</td>\n",
              "      <td>19</td>\n",
              "      <td>cookies cakes</td>\n",
              "      <td>snacks</td>\n",
              "    </tr>\n",
              "    <tr>\n",
              "      <th>1</th>\n",
              "      <td>2</td>\n",
              "      <td>All-Seasons Salt</td>\n",
              "      <td>104</td>\n",
              "      <td>13</td>\n",
              "      <td>spices seasonings</td>\n",
              "      <td>pantry</td>\n",
              "    </tr>\n",
              "    <tr>\n",
              "      <th>2</th>\n",
              "      <td>3</td>\n",
              "      <td>Robust Golden Unsweetened Oolong Tea</td>\n",
              "      <td>94</td>\n",
              "      <td>7</td>\n",
              "      <td>tea</td>\n",
              "      <td>beverages</td>\n",
              "    </tr>\n",
              "    <tr>\n",
              "      <th>3</th>\n",
              "      <td>4</td>\n",
              "      <td>Smart Ones Classic Favorites Mini Rigatoni Wit...</td>\n",
              "      <td>38</td>\n",
              "      <td>1</td>\n",
              "      <td>frozen meals</td>\n",
              "      <td>frozen</td>\n",
              "    </tr>\n",
              "    <tr>\n",
              "      <th>4</th>\n",
              "      <td>5</td>\n",
              "      <td>Green Chile Anytime Sauce</td>\n",
              "      <td>5</td>\n",
              "      <td>13</td>\n",
              "      <td>marinades meat preparation</td>\n",
              "      <td>pantry</td>\n",
              "    </tr>\n",
              "  </tbody>\n",
              "</table>\n",
              "</div>"
            ],
            "text/plain": [
              "   product_id  ... department\n",
              "0           1  ...     snacks\n",
              "1           2  ...     pantry\n",
              "2           3  ...  beverages\n",
              "3           4  ...     frozen\n",
              "4           5  ...     pantry\n",
              "\n",
              "[5 rows x 6 columns]"
            ]
          },
          "execution_count": 4,
          "metadata": {
            "tags": []
          },
          "output_type": "execute_result"
        }
      ],
      "source": [
        "#Загружаем продукты\r\n",
        "pr = pd.read_csv(PRODUCTS_PATH)\r\n",
        "pr.head()"
      ]
    },
    {
      "cell_type": "code",
      "execution_count": null,
      "metadata": {
        "colab": {
          "base_uri": "https://localhost:8080/"
        },
        "id": "E_tKtZCVruSq",
        "outputId": "9e13c95b-d090-401f-e316-6f364413c765"
      },
      "outputs": [
        {
          "data": {
            "text/plain": [
              "49688"
            ]
          },
          "execution_count": 5,
          "metadata": {
            "tags": []
          },
          "output_type": "execute_result"
        }
      ],
      "source": [
        "#Строим словарь item_data\r\n",
        "item_data = {}\r\n",
        "\r\n",
        "for i, row in pr.iterrows():\r\n",
        "    item_data[row.product_id] = {\r\n",
        "        \"aisle\": row.aisle_id,\r\n",
        "        \"department\": row.department_id\r\n",
        "    }\r\n",
        "len(item_data)"
      ]
    },
    {
      "cell_type": "code",
      "execution_count": null,
      "metadata": {
        "colab": {
          "base_uri": "https://localhost:8080/"
        },
        "id": "_2AV4XHhJEpg",
        "outputId": "af6baaa1-6932-4032-e629-12466eefcc76"
      },
      "outputs": [
        {
          "data": {
            "text/plain": [
              "(100000, 49688)"
            ]
          },
          "execution_count": 6,
          "metadata": {
            "tags": []
          },
          "output_type": "execute_result"
        }
      ],
      "source": [
        "#Загружаем транзакции\n",
        "tx = pd.read_csv(TX_PATH)\n",
        "UIDS = sorted(tx['user_id'].unique())\n",
        "IIDS = sorted(pr['product_id'].unique())\n",
        "\n",
        "len(UIDS), len(IIDS)"
      ]
    },
    {
      "cell_type": "code",
      "execution_count": null,
      "metadata": {
        "colab": {
          "base_uri": "https://localhost:8080/",
          "height": 204
        },
        "id": "1zC4r1frTRCa",
        "outputId": "ed11bf34-7b81-4184-ca51-ff769e85539d"
      },
      "outputs": [
        {
          "data": {
            "text/html": [
              "<div>\n",
              "<style scoped>\n",
              "    .dataframe tbody tr th:only-of-type {\n",
              "        vertical-align: middle;\n",
              "    }\n",
              "\n",
              "    .dataframe tbody tr th {\n",
              "        vertical-align: top;\n",
              "    }\n",
              "\n",
              "    .dataframe thead th {\n",
              "        text-align: right;\n",
              "    }\n",
              "</style>\n",
              "<table border=\"1\" class=\"dataframe\">\n",
              "  <thead>\n",
              "    <tr style=\"text-align: right;\">\n",
              "      <th></th>\n",
              "      <th>order_id</th>\n",
              "      <th>user_id</th>\n",
              "      <th>order_number</th>\n",
              "      <th>order_dow</th>\n",
              "      <th>order_hour_of_day</th>\n",
              "      <th>days_since_prior_order</th>\n",
              "      <th>product_id</th>\n",
              "      <th>add_to_cart_order</th>\n",
              "      <th>reordered</th>\n",
              "    </tr>\n",
              "  </thead>\n",
              "  <tbody>\n",
              "    <tr>\n",
              "      <th>0</th>\n",
              "      <td>2539329</td>\n",
              "      <td>1</td>\n",
              "      <td>1</td>\n",
              "      <td>2</td>\n",
              "      <td>8</td>\n",
              "      <td>NaN</td>\n",
              "      <td>196</td>\n",
              "      <td>1.0</td>\n",
              "      <td>0.0</td>\n",
              "    </tr>\n",
              "    <tr>\n",
              "      <th>1</th>\n",
              "      <td>2539329</td>\n",
              "      <td>1</td>\n",
              "      <td>1</td>\n",
              "      <td>2</td>\n",
              "      <td>8</td>\n",
              "      <td>NaN</td>\n",
              "      <td>14084</td>\n",
              "      <td>2.0</td>\n",
              "      <td>0.0</td>\n",
              "    </tr>\n",
              "    <tr>\n",
              "      <th>2</th>\n",
              "      <td>2539329</td>\n",
              "      <td>1</td>\n",
              "      <td>1</td>\n",
              "      <td>2</td>\n",
              "      <td>8</td>\n",
              "      <td>NaN</td>\n",
              "      <td>12427</td>\n",
              "      <td>3.0</td>\n",
              "      <td>0.0</td>\n",
              "    </tr>\n",
              "    <tr>\n",
              "      <th>3</th>\n",
              "      <td>2539329</td>\n",
              "      <td>1</td>\n",
              "      <td>1</td>\n",
              "      <td>2</td>\n",
              "      <td>8</td>\n",
              "      <td>NaN</td>\n",
              "      <td>26088</td>\n",
              "      <td>4.0</td>\n",
              "      <td>0.0</td>\n",
              "    </tr>\n",
              "    <tr>\n",
              "      <th>4</th>\n",
              "      <td>2539329</td>\n",
              "      <td>1</td>\n",
              "      <td>1</td>\n",
              "      <td>2</td>\n",
              "      <td>8</td>\n",
              "      <td>NaN</td>\n",
              "      <td>26405</td>\n",
              "      <td>5.0</td>\n",
              "      <td>0.0</td>\n",
              "    </tr>\n",
              "  </tbody>\n",
              "</table>\n",
              "</div>"
            ],
            "text/plain": [
              "   order_id  user_id  order_number  ...  product_id  add_to_cart_order  reordered\n",
              "0   2539329        1             1  ...         196                1.0        0.0\n",
              "1   2539329        1             1  ...       14084                2.0        0.0\n",
              "2   2539329        1             1  ...       12427                3.0        0.0\n",
              "3   2539329        1             1  ...       26088                4.0        0.0\n",
              "4   2539329        1             1  ...       26405                5.0        0.0\n",
              "\n",
              "[5 rows x 9 columns]"
            ]
          },
          "execution_count": 9,
          "metadata": {
            "tags": []
          },
          "output_type": "execute_result"
        }
      ],
      "source": [
        "tx.head()"
      ]
    },
    {
      "cell_type": "code",
      "execution_count": null,
      "metadata": {
        "id": "u2U6F0EWuK4X"
      },
      "outputs": [],
      "source": [
        "#Создаем глобальный объект данных\r\n",
        "data = RecData(UIDS, IIDS)\r\n",
        "data.item_data = item_data"
      ]
    },
    {
      "cell_type": "code",
      "execution_count": null,
      "metadata": {
        "colab": {
          "base_uri": "https://localhost:8080/"
        },
        "id": "eoDbwz4drKe1",
        "outputId": "cf10bdf2-3bed-4c2a-8895-c5a9a699a3de"
      },
      "outputs": [
        {
          "data": {
            "text/plain": [
              "(21, 134)"
            ]
          },
          "execution_count": 8,
          "metadata": {
            "tags": []
          },
          "output_type": "execute_result"
        }
      ],
      "source": [
        "#Построение словарей для извлечения информации по айтемам\r\n",
        "data.DEPARTMENT_ITEMS = {dpt_id : pr[pr[\"department_id\"] == dpt_id][\"product_id\"].values for dpt_id in pr[\"department_id\"].unique()}\r\n",
        "data.AISLE_ITEMS = {aisle_id : pr[pr[\"aisle_id\"] == aisle_id][\"product_id\"].values for aisle_id in pr[\"aisle_id\"].unique()}\r\n",
        "\r\n",
        "len(data.DEPARTMENT_ITEMS), len(data.AISLE_ITEMS)"
      ]
    },
    {
      "cell_type": "code",
      "execution_count": null,
      "metadata": {
        "id": "_Bzt1Ldvupx-"
      },
      "outputs": [],
      "source": [
        "#Считаем глобальную вероятность появления продукта в заказе P(I), а заодно глобальное число появлений каждого продукта\r\n",
        "orders_num = len(tx['order_id'].unique())\r\n",
        "tx_num = len(tx)\r\n",
        "\r\n",
        "for iid in data.IIDS:\r\n",
        "    data.item_data[iid]['global_p'] = 0.0   # P(I) для заказа\r\n",
        "    data.item_data[iid]['dpt_p'] = 0.0      # P(I | D)\r\n",
        "    data.item_data[iid]['asl_p'] = 0.0      # P(I | A)\r\n",
        "    data.item_data[iid]['global_count'] = 0 \r\n",
        "\r\n",
        "for i, row in tx.groupby(\"product_id\").agg({\"order_id\":\"count\"}).reset_index().iterrows():\r\n",
        "    data.item_data[row.product_id]['global_p'] = row.order_id / orders_num\r\n",
        "    data.item_data[row.product_id]['global_count'] = row.order_id"
      ]
    },
    {
      "cell_type": "code",
      "execution_count": null,
      "metadata": {
        "colab": {
          "base_uri": "https://localhost:8080/"
        },
        "id": "u3TT1UAhymT9",
        "outputId": "5131049b-f2af-4de3-ad90-05c8dc5241bc"
      },
      "outputs": [
        {
          "name": "stderr",
          "output_type": "stream",
          "text": [
            "/usr/local/lib/python3.6/dist-packages/ipykernel_launcher.py:4: DeprecationWarning: Calling np.sum(generator) is deprecated, and in the future will give a different result. Use np.sum(np.fromiter(generator)) or the python sum builtin instead.\n",
            "  after removing the cwd from sys.path.\n"
          ]
        },
        {
          "data": {
            "text/plain": [
              "{'aisle': 61,\n",
              " 'asl_p': 0.008161910382329385,\n",
              " 'department': 19,\n",
              " 'dpt_p': 0.0006532215757947881,\n",
              " 'global_count': 1549,\n",
              " 'global_p': 0.0005949290079549191}"
            ]
          },
          "execution_count": 11,
          "metadata": {
            "tags": []
          },
          "output_type": "execute_result"
        }
      ],
      "source": [
        "#Считаем условную вероятность вхождения продукта I при департаменте D P(I | D)\r\n",
        "for dpt_id, iids in data.DEPARTMENT_ITEMS.items():\r\n",
        "    #Общее число появлений всех продуктов всех департаментов\r\n",
        "    den = np.sum(data.item_data[iid]['global_count'] for iid in iids)\r\n",
        "    for iid in iids:\r\n",
        "        data.item_data[iid]['dpt_p'] = data.item_data[iid]['global_count'] / den\r\n",
        "\r\n",
        "#То же для продукта I и категории A P(I | A)\r\n",
        "for asl_id, iids in data.AISLE_ITEMS.items():\r\n",
        "    #Общее число появлений всех продуктов всех категорий\r\n",
        "    den = np.sum([data.item_data[iid]['global_count'] for iid in iids])\r\n",
        "    for iid in iids:\r\n",
        "        data.item_data[iid]['asl_p'] = data.item_data[iid]['global_count'] / den\r\n",
        "\r\n",
        "data.item_data[1]"
      ]
    },
    {
      "cell_type": "code",
      "execution_count": null,
      "metadata": {
        "colab": {
          "base_uri": "https://localhost:8080/"
        },
        "id": "aruDd08LWR-0",
        "outputId": "884087d5-2835-44b4-e085-6605039a6ffa"
      },
      "outputs": [
        {
          "name": "stdout",
          "output_type": "stream",
          "text": [
            "OK\n"
          ]
        }
      ],
      "source": [
        "#Построение для извлечения информации по юзерам\n",
        "user_dict = tx.sort_values([\"order_number\", \"add_to_cart_order\"]).groupby([\"user_id\", \"order_number\"]).agg({\"product_id\": lambda x: list(x)}).groupby(level=0).apply(lambda df: df.xs(df.name).to_dict()).to_dict()\n",
        "\n",
        "print('OK')"
      ]
    },
    {
      "cell_type": "code",
      "execution_count": null,
      "metadata": {
        "id": "g3bPI1Xttf37"
      },
      "outputs": [],
      "source": [
        "from collections import Counter\n",
        "\n",
        "#Маппинг продукт -> категория для заказа\n",
        "def to_aisles(o):\n",
        "    return [data.item_data[iid]['aisle'] for iid in o]\n",
        "\n",
        "#Маппинг продукт -> департамент для заказа\n",
        "def to_departments(o):\n",
        "    return [data.item_data[iid]['department'] for iid in o]\n",
        "\n",
        "#Нормализация частот, посчитанных в Counter\n",
        "def norm_counter(counter, n):\n",
        "    d = dict(counter.most_common())\n",
        "    for k, _ in d.items():\n",
        "        d[k] /= n\n",
        "    return d\n",
        "\n",
        "#Нормализация частот, посчитанных в словаре\n",
        "def norm_proba(d, n):\n",
        "    for k, _ in d.items():\n",
        "        d[k] /= n\n",
        "    return d\n",
        "\n",
        "#Расчет вероятности департамента/категории в заказе\n",
        "def update_proba(d, o):\n",
        "    counter = Counter()\n",
        "    counter.update(o)\n",
        "    d1 = norm_counter(counter, len(o))\n",
        "    for k, _ in d1.items():\n",
        "        if k in d:\n",
        "            d[k] += d1[k]\n",
        "        else:\n",
        "            d[k] = d1[k]\n",
        "    return d\n",
        "\n",
        "for uid, v in user_dict.items():\n",
        "    data.user_data[uid] = {\n",
        "        'orders': [], #заказы в виде списков\n",
        "        'item_p': {}, #априорная вероятность появления продуктов у пользователя по всей истории\n",
        "        'dpt_p': {}, #усредненная вероятность появления категории у пользователя в заказе\n",
        "        'asl_p': {} #усредненная вероятность появления департамента у пользователя в заказе\n",
        "                           }\n",
        "    counter_items = Counter()\n",
        "    counter_aisles = {}\n",
        "    counter_dpts = {}\n",
        "    _sum = 0\n",
        "    n = 0\n",
        "    for _, order in v['product_id'].items():\n",
        "        data.user_data[uid]['orders'].append(order)\n",
        "        counter_items.update(order)\n",
        "        counter_aisles = update_proba(counter_aisles, to_aisles(order))\n",
        "        counter_dpts = update_proba(counter_dpts, to_departments(order))\n",
        "        _sum += len(order)\n",
        "        n += 1\n",
        "\n",
        "    data.user_data[uid]['item_p'] = norm_counter(counter_items, _sum) \n",
        "    data.user_data[uid]['asl_p'] = norm_proba(counter_aisles, n) \n",
        "    data.user_data[uid]['dpt_p'] = norm_proba(counter_dpts, n) "
      ]
    },
    {
      "cell_type": "code",
      "execution_count": null,
      "metadata": {
        "colab": {
          "base_uri": "https://localhost:8080/"
        },
        "id": "1bcQ88C1eikb",
        "outputId": "c0e7a453-730d-4cee-c3c2-90754b604bc4"
      },
      "outputs": [
        {
          "data": {
            "text/plain": [
              "{'asl_p': {21: 0.14194444444444448,\n",
              "  23: 0.21527777777777776,\n",
              "  24: 0.06666666666666667,\n",
              "  45: 0.01111111111111111,\n",
              "  53: 0.03333333333333333,\n",
              "  54: 0.04,\n",
              "  77: 0.22305555555555556,\n",
              "  88: 0.02,\n",
              "  91: 0.03111111111111111,\n",
              "  117: 0.15861111111111112,\n",
              "  120: 0.01111111111111111,\n",
              "  121: 0.04777777777777778},\n",
              " 'dpt_p': {4: 0.06666666666666667,\n",
              "  7: 0.22305555555555556,\n",
              "  13: 0.02,\n",
              "  14: 0.04777777777777778,\n",
              "  16: 0.21749999999999997,\n",
              "  17: 0.04,\n",
              "  19: 0.38500000000000006},\n",
              " 'item_p': {196: 0.1694915254237288,\n",
              "  10258: 0.15254237288135594,\n",
              "  10326: 0.01694915254237288,\n",
              "  12427: 0.1694915254237288,\n",
              "  13032: 0.05084745762711865,\n",
              "  13176: 0.03389830508474576,\n",
              "  14084: 0.01694915254237288,\n",
              "  17122: 0.01694915254237288,\n",
              "  25133: 0.13559322033898305,\n",
              "  26088: 0.03389830508474576,\n",
              "  26405: 0.03389830508474576,\n",
              "  30450: 0.01694915254237288,\n",
              "  35951: 0.01694915254237288,\n",
              "  38928: 0.01694915254237288,\n",
              "  39657: 0.01694915254237288,\n",
              "  41787: 0.01694915254237288,\n",
              "  46149: 0.05084745762711865,\n",
              "  49235: 0.03389830508474576},\n",
              " 'orders': [[196, 14084, 12427, 26088, 26405],\n",
              "  [196, 10258, 12427, 13176, 26088, 13032],\n",
              "  [196, 12427, 10258, 25133, 30450],\n",
              "  [196, 12427, 10258, 25133, 26405],\n",
              "  [196, 12427, 10258, 25133, 10326, 17122, 41787, 13176],\n",
              "  [196, 12427, 10258, 25133],\n",
              "  [196, 10258, 12427, 25133, 13032],\n",
              "  [12427, 196, 10258, 25133, 46149, 49235],\n",
              "  [49235, 46149, 25133, 196, 10258, 12427],\n",
              "  [196, 46149, 39657, 38928, 25133, 10258, 35951, 13032, 12427]]}"
            ]
          },
          "execution_count": 14,
          "metadata": {
            "tags": []
          },
          "output_type": "execute_result"
        }
      ],
      "source": [
        "data.user_data[1]"
      ]
    },
    {
      "cell_type": "code",
      "execution_count": null,
      "metadata": {
        "id": "TlvlxgzWuXMY"
      },
      "outputs": [],
      "source": [
        "#Saving basic data\n",
        "save_obj(data, \"data.bin\")"
      ]
    },
    {
      "cell_type": "markdown",
      "metadata": {
        "id": "IemERmr_2Nln"
      },
      "source": [
        "### 2. Collaborative filtering. Построение IxU и IxI матрицы\r\n",
        "\r\n",
        "Неудачный вариант, использование Collaborative Filtering не очень подходит для этой задачи. Матрица IxI считалась более суток."
      ]
    },
    {
      "cell_type": "code",
      "execution_count": 35,
      "metadata": {
        "id": "Axhzrcd_7hNm"
      },
      "outputs": [],
      "source": [
        "#Loading basic data\n",
        "data = load_obj(\"data.bin\")"
      ]
    },
    {
      "cell_type": "markdown",
      "metadata": {
        "id": "jPNZQMvCdaon"
      },
      "source": [
        "Идея состоит в следующем: рассчитаем матрицу IxU, где в пересечении будет стоять синтетический \"рейтинг\", равный вероятности появления соответствующего продукта у пользователя. Затем рассчитаем матрицу item-to-item similarity с помощью косинусного расстояния и найдем похожие друг на друга продукты."
      ]
    },
    {
      "cell_type": "code",
      "execution_count": null,
      "metadata": {
        "id": "ScqfQxqKvy1W"
      },
      "outputs": [],
      "source": [
        "#Cчитаем матрицу IxU строки - продукты, столбцы - пользователи\n",
        "I_U = np.zeros((M, N), dtype=np.float16) # (M, N)\n",
        "\n",
        "for j, uid in enumerate(data.UIDS):\n",
        "    udata = data.user_data[uid]\n",
        "    for iid, p in udata['item_proba'].items(): #расставляем по столбцам\n",
        "        i = data.IIDS_index[iid]\n",
        "        I_U[i, j] = p\n",
        "\n",
        "I_U_norms = [(tf.norm(I_U[j, :], ord=2) + 1e-06).numpy() for j in range(0, M)]  # (1, M)\n",
        "\n",
        "#L2-нормализация строк матрицы IxU, чтобы не приходилось это делать каждый раз при вычислении косинусного расстояния\n",
        "for j in range(M):\n",
        "    I_U[j, :] = I_U[j, :]/I_U_norms[j]\n",
        "#I_U = I_U * (1/np.array(I_U_norms).reshape(1, -1).T) жрет слишком много памяти\n",
        "\n",
        "tfI_U = tf.convert_to_tensor(I_U, dtype=tf.float16)"
      ]
    },
    {
      "cell_type": "code",
      "execution_count": null,
      "metadata": {
        "id": "H96pcXdVM3GB"
      },
      "outputs": [],
      "source": [
        "#Сохраняем в sparse-формате\n",
        "spI_U = sparse.csr_matrix(I_U)\n",
        "save_obj(spI_U, \"I_U.bin\")\n",
        "save_obj(I_U_norms, \"I_U_norms.bin\")"
      ]
    },
    {
      "cell_type": "code",
      "execution_count": null,
      "metadata": {
        "id": "6S4MHZY6myCq"
      },
      "outputs": [],
      "source": [
        "#2 вaариант - загружаем с диска разреженную матрицу IxU - уже не работает, изза памяти\n",
        "I_U = load_obj(\"I_U.bin\")\n",
        "I_U_norms = load_obj(\"I_U_norms.bin\")\n",
        "I_U_norms = 1./np.expand_dims(np.array(I_U_norms), 0).T\n",
        "I_U = I_U.astype(np.float16)\n",
        "print(\"I_U loaded\")\n",
        "I_U = np.multiply(I_U, I_U_norms)\n",
        "print(\"I_U normalized\")\n",
        "coo = spI_U.tocoo()\n",
        "indices = np.mat([coo.row, coo.col]).transpose()\n",
        "tfI_U = tf.SparseTensor(indices, coo.data, coo.shape)\n",
        "tfI_U = tf.sparse.to_dense(tfI_U, validate_indices=False)\n",
        "print(\"I_U restored\")"
      ]
    },
    {
      "cell_type": "code",
      "execution_count": null,
      "metadata": {
        "colab": {
          "base_uri": "https://localhost:8080/"
        },
        "id": "TqBYEDEFOg5o",
        "outputId": "4897444e-4b96-4e44-ba1a-82f36b831a8f"
      },
      "outputs": [
        {
          "name": "stdout",
          "output_type": "stream",
          "text": [
            "100 loops, best of 3: 1.29 ms per loop\n"
          ]
        }
      ],
      "source": [
        "%%timeit -n 100\n",
        "tf.repeat(tf.expand_dims(a, 0), 3, axis=0)"
      ]
    },
    {
      "cell_type": "code",
      "execution_count": null,
      "metadata": {
        "colab": {
          "base_uri": "https://localhost:8080/"
        },
        "id": "i4prYwasRBJy",
        "outputId": "ce042348-efe0-43e0-e64a-2bc509ffe2cd"
      },
      "outputs": [
        {
          "name": "stdout",
          "output_type": "stream",
          "text": [
            "10 loops, best of 3: 1.23 ms per loop\n"
          ]
        }
      ],
      "source": [
        "%%timeit -n 10\n",
        "tf.repeat(tfI_U[1:2, :], 3, axis=0)"
      ]
    },
    {
      "cell_type": "code",
      "execution_count": null,
      "metadata": {
        "colab": {
          "base_uri": "https://localhost:8080/"
        },
        "id": "oqBimtEDSzqV",
        "outputId": "e4abc1d2-eb82-4576-e6dc-648f38859408"
      },
      "outputs": [
        {
          "name": "stdout",
          "output_type": "stream",
          "text": [
            "10 loops, best of 3: 211 µs per loop\n"
          ]
        }
      ],
      "source": [
        "%%timeit -n 10\n",
        "[tfI_U[1:2, :] for i in range(3)]"
      ]
    },
    {
      "cell_type": "code",
      "execution_count": null,
      "metadata": {
        "id": "mUkaOvBHZ9sY"
      },
      "outputs": [],
      "source": [
        "#Функция для вычисления косинусной меры - максимально оптимизирована\n",
        "def tf_cosine_similarity_batch(i, j, batch_size):\n",
        "    count = min(M-j, batch_size)\n",
        "    v1 = tf.repeat(tfI_U[i:i+1, :], count, axis=0)\n",
        "    v2 = tfI_U[j:j+count, :]\n",
        "    return tf.math.reduce_sum(v1 * v2, axis=1).numpy()"
      ]
    },
    {
      "cell_type": "code",
      "execution_count": null,
      "metadata": {
        "colab": {
          "base_uri": "https://localhost:8080/"
        },
        "id": "5K9QC54ueLbQ",
        "outputId": "f3f836ee-3f45-45ca-e0ae-32cc0d6c550a"
      },
      "outputs": [
        {
          "name": "stdout",
          "output_type": "stream",
          "text": [
            "10 loops, best of 3: 6.01 ms per loop\n"
          ]
        }
      ],
      "source": [
        "%%timeit -n 10\n",
        "tf_cosine_similarity_batch(0, 1, 4096)"
      ]
    },
    {
      "cell_type": "code",
      "execution_count": null,
      "metadata": {
        "id": "9BM7sqUXWlZZ"
      },
      "outputs": [],
      "source": [
        "#1 итерация\n",
        "I_I = np.zeros((M,))\n",
        "I_I[0] = 1.0\n",
        "for j in range(1, M, BATCH_SIZE):\n",
        "    I_I[j:j + BATCH_SIZE] = batch = tf_cosine_similarity_batch(0, j, BATCH_SIZE)\n",
        "I_I = sparse.csr_matrix(I_I)\n",
        "print(\"1st iteration complete\")\n",
        "save_obj(I_I, \"I_I.bin\")\n",
        "print(\"matrix saved\")\n",
        "I_I.shape"
      ]
    },
    {
      "cell_type": "code",
      "execution_count": null,
      "metadata": {
        "colab": {
          "base_uri": "https://localhost:8080/"
        },
        "id": "mLyS2N_U3KVK",
        "outputId": "a1edec3a-4616-4a4a-8c0b-b9861f94dc86"
      },
      "outputs": [
        {
          "name": "stdout",
          "output_type": "stream",
          "text": [
            "Initial shape: (49601, 49688)\n",
            "Initial time:  2020-12-09 14:09:43\n"
          ]
        }
      ],
      "source": [
        "import scipy\n",
        "import datetime\n",
        "\n",
        "BATCH_SIZE = 4096\n",
        "\n",
        "I_I = load_obj(\"I_I.bin\")\n",
        "print(\"Initial shape:\", I_I.shape)\n",
        "start_time = datetime.datetime.now()\n",
        "print(\"Initial time: \", start_time.strftime('%Y-%m-%d %H:%M:%S'))\n",
        "\n",
        "for i in range(I_I.shape[0], M):\n",
        "    block = np.zeros((M, ))\n",
        "    block[i] = 1.0\n",
        "    block[:i] = I_I[:i, i].toarray().T\n",
        "    for j in range(i+1, M, BATCH_SIZE):\n",
        "        block[j:j+BATCH_SIZE] = tf_cosine_similarity_batch(i, j, BATCH_SIZE)\n",
        "    I_I = scipy.sparse.vstack((I_I, sparse.csr_matrix(block)))\n",
        "    if i%100 == 0:\n",
        "        delta = (datetime.datetime.now() - start_time).total_seconds()\n",
        "        print(f\"+{delta:4.1f} s. Completed {i}-th line of similarity matrix\", I_I.shape)\n",
        "        save_obj(I_I, \"I_I.bin\")\n",
        "\n",
        "save_obj(I_I, \"I_I.bin\")"
      ]
    },
    {
      "cell_type": "markdown",
      "metadata": {
        "id": "vP-YHPcgeHQX"
      },
      "source": [
        "В итоге матрица IxI считалась более суток, что явно не соответствует критерию, указанному в задании, более того расчет замедлялся к последним строкам, а не ускорялся, что связано с медленным копированием уже посчитанных значений из sparse-матрицы. Держать обе матрицы в памяти не представляется возможным даже на Colab Premium, т.к. объем даже на np.float16 превышает 25 Гб RAM."
      ]
    },
    {
      "cell_type": "markdown",
      "metadata": {
        "id": "oO_FIYFxfJKo"
      },
      "source": [
        "### 3. Алгоритм ранжирования и Sample submission\r\n",
        "\r\n",
        "Постановка задачи заключается в построении генеративной модели по очень ограниченному набору наблюдений из неизвестного распределения. Строго говоря, подобная система не является рекомендательной, ее функция -- предсказать, что купит пользователь, а не что ему порекомендовать _помимо_ того, что он купил.  Здравый смысл подсказывает, что наибольший вес нужно придать тем продуктам, которые явно содержатся в истории его покупок, это распределение мы знаем a priori. Что касается тех продуктов, которых у него не было в истории транзакций, то возникает два варианта:\r\n",
        "1) самый наивный алгоритм - просто игнорировать то, чего нет в истории;\r\n",
        "2) считать вероятность появления продукта через вероятность появления категории у пользователя, например так:\r\n",
        "\r\n",
        "  P(I | Ui) = P(I | A) * P(A | Ui)\r\n",
        "\r\n",
        "Также можно было бы выбрать департаменты и другую условную вероятность.\r\n",
        "\r\n",
        "Все вероятности посчитаны заранее при предобработке данных.\r\n",
        "\r\n",
        "Для облегчения расчетов мы не берем ВСЕ продукты из каждой категории, а только 10 наиболее популярных (также гиперпараметр).\r\n",
        "\r\n",
        "Итак, в обоих алгоритмах для каждого пользователя составляем список вероятностей появления продуктов и берем 10 наибольших вероятностей.\r\n",
        "  "
      ]
    },
    {
      "cell_type": "code",
      "execution_count": 44,
      "metadata": {
        "colab": {
          "base_uri": "https://localhost:8080/"
        },
        "id": "xSQBaTr1m8GC",
        "outputId": "29a1b930-2062-4643-d84d-1e8ba638587c"
      },
      "outputs": [
        {
          "data": {
            "text/plain": [
              "([196, 12427, 10258, 25133, 13032, 46149, 26088, 26405, 13176, 49235],\n",
              " [196, 12427, 10258, 25133, 13032, 46149, 26088, 26405, 13176, 49235])"
            ]
          },
          "execution_count": 44,
          "metadata": {
            "tags": []
          },
          "output_type": "execute_result"
        }
      ],
      "source": [
        "ALPHA = 1.0\n",
        "MAX_AISLE_POPULAR = 10\n",
        "\n",
        "def rank_items_for_user_history(uid, k=10):\n",
        "    return [x[0] for x in sorted(data.user_data[uid]['item_p'].items(), key=lambda x: -x[1])][:k]\n",
        "\n",
        "def rank_items_for_user(uid, k=10):\n",
        "    udata = data.user_data[uid]\n",
        "    #Начальное приближение - вероятности, зафиксированные в истории покупок\n",
        "    target_proba = udata['item_p'].copy()\n",
        "    #Для каждой категории, зафиксированной у пользователя\n",
        "    for aid, p_a in udata['asl_p'].items():\n",
        "        if aid not in data.AISLE_ITEMS_PROBA:\n",
        "            #Строим список условных вероятностей P(I | A) и отбираем 10 наибольших\n",
        "            a_i_p = { iid: data.item_data[iid]['asl_p'] for iid in data.AISLE_ITEMS[aid]}\n",
        "            data.AISLE_ITEMS_PROBA[aid] = dict(sorted(a_i_p.items(), key=lambda x: -x[1])[:MAX_AISLE_POPULAR])\n",
        "        #Добавляем в целевой список по формуле Байеса\n",
        "        for iid, p_i in data.AISLE_ITEMS_PROBA[aid].items():\n",
        "            #Если зафиксированная вероятность - пропускаем!\n",
        "            if iid in target_proba: continue\n",
        "            idata = data.item_data[iid]\n",
        "            target_proba[iid] = idata['asl_p'] * p_a * ALPHA\n",
        "\n",
        "    return [x[0] for x in sorted(target_proba.items(), key=lambda x: -x[1])][:k]\n",
        "\n",
        "rank_items_for_user(1, 10), rank_items_for_user_history(1, 10)"
      ]
    },
    {
      "cell_type": "code",
      "execution_count": 45,
      "metadata": {
        "id": "umjV31j2faRb"
      },
      "outputs": [],
      "source": [
        "def write_submission(algo):\r\n",
        "    lines = ['user_id,product_id\\n']\r\n",
        "    for uid in data.UIDS:\r\n",
        "        iids = algo(uid)\r\n",
        "        line = f\"{uid},{' '.join([str(iid) for iid in iids])}\"\r\n",
        "        lines.append(line+\"\\n\")\r\n",
        "\r\n",
        "    with open('./drive/My Drive/data/recsys_diploma/submission.csv', \"w\") as f:\r\n",
        "    #with open('./submission.csv', \"w\") as f:\r\n",
        "        f.writelines(lines)\r\n",
        "\r\n",
        "    print('OK')"
      ]
    },
    {
      "cell_type": "code",
      "execution_count": 46,
      "metadata": {
        "colab": {
          "base_uri": "https://localhost:8080/"
        },
        "id": "NwptNAnr1L_6",
        "outputId": "ed4f0c94-8f1a-4855-e664-16fb67a402f5"
      },
      "outputs": [
        {
          "name": "stdout",
          "output_type": "stream",
          "text": [
            "OK\n"
          ]
        }
      ],
      "source": [
        "write_submission(rank_items_for_user)"
      ]
    },
    {
      "cell_type": "markdown",
      "metadata": {
        "id": "2xOg1orG0Kje"
      },
      "source": [
        "### Валидация, тестирование\r\n",
        "\r\n",
        "В итоге наивный алгоритм выдал точность 0.27399, в то время как байесовское предсказание выдало 0.27103.\r\n",
        "\r\n"
      ]
    },
    {
      "cell_type": "markdown",
      "metadata": {
        "id": "dDgO2Kpq1BCF"
      },
      "source": [
        "![diploma-kaggle1.png](data:image/png;base64,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)"
      ]
    },
    {
      "cell_type": "markdown",
      "metadata": {
        "id": "1MEFErecI-zS"
      },
      "source": [
        "![diploma-kaggle2.png](data:image/png;base64,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)"
      ]
    },
    {
      "cell_type": "markdown",
      "metadata": {
        "id": "E8wsA5s_2HiD"
      },
      "source": [
        "Учитывая, что список id, выдаваемый обоими алгоритмами мало различается, остается только сделать выбор в пользу наивного алгоритма!"
      ]
    },
    {
      "cell_type": "code",
      "execution_count": null,
      "metadata": {
        "id": "u7wvuldhJG0k"
      },
      "outputs": [],
      "source": [
        ""
      ]
    }
  ]
}